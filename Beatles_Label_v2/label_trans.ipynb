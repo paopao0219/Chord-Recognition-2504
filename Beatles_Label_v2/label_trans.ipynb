{
 "cells": [
  {
   "cell_type": "code",
   "execution_count": 64,
   "metadata": {},
   "outputs": [],
   "source": [
    "from glob import glob\n",
    "import pandas as pd\n",
    "import os"
   ]
  },
  {
   "cell_type": "code",
   "execution_count": 83,
   "metadata": {},
   "outputs": [],
   "source": [
    "new_path = './Beatles_Label_v2'\n",
    "if os.path.exists(new_path) == False:\n",
    "    os.mkdir(new_path)\n",
    "# simplified labels, only \"#\" no \"b\"\n",
    "labels = ['N','C','Cm','C#','C#m','D','Dm','D#','D#m','E','Em','F','Fm','F#','F#m','G','Gm','G#','G#m','A','Am','A#','A#m','B','Bm']\n",
    "\n",
    "path = './chordlab/**/*.lab' # original label file path\n",
    "# Use glob to find all label files recursively\n",
    "label_files = []\n",
    "label_files.extend(glob(path, recursive=True))\n",
    "\n",
    "for file in label_files:\n",
    "    parts = file.split('\\\\')\n",
    "    folder = parts[-2]\n",
    "    song = parts[-1][:-4]\n",
    "    if os.path.exists(new_path+'/'+folder) == False:\n",
    "        os.mkdir(new_path+'/'+folder)\n",
    "    # read file\n",
    "    df = pd.read_csv(file, header=None, sep=' ')\n",
    "    # convert label\n",
    "    for i in range(len(df.iloc[:,2])):\n",
    "        df.iloc[i,2] = label_convert(df.iloc[i,2],labels) \n",
    "    # write to csv \n",
    "    df.to_csv(new_path+'/'+folder+'/'+song+'.csv', index=False, header=False)"
   ]
  },
  {
   "cell_type": "code",
   "execution_count": 81,
   "metadata": {},
   "outputs": [],
   "source": [
    "def label_convert (in_lab,labels):\n",
    "# convert the label to the type we want\n",
    "    # in case for Xb chord\n",
    "    chord_blist = ['Cb','Db','Eb','Fb','Gb','Ab','Bb','E#','B#']\n",
    "    chord_alist = ['B','C#','D#','E','F#','G#','A#','F','C']\n",
    "    if len(in_lab) == 1:\n",
    "        return in_lab\n",
    "    elif len(in_lab) == 2:\n",
    "        if in_lab in lables:\n",
    "            return in_lab\n",
    "        else:\n",
    "            try:\n",
    "                index = chord_blist.index(in_lab)\n",
    "                return  chord_alist[index]\n",
    "            except ValueError:\n",
    "                print(\"Element not found in list\")\n",
    "    elif len(in_lab)>2:\n",
    "        parts = in_lab.split(':')\n",
    "        if len(parts) != 2:\n",
    "            parts = in_lab.split('/')\n",
    "        if parts[0] in lables:\n",
    "            chord =  parts[0]\n",
    "        else:\n",
    "            try:\n",
    "                index = chord_blist.index(parts[0])\n",
    "                chord = chord_alist[index]\n",
    "            except ValueError:\n",
    "                print(\"Element not found in list\")\n",
    "        if parts[1][0] == 'm':\n",
    "            chord  = chord + 'm'\n",
    "        return chord"
   ]
  }
 ],
 "metadata": {
  "kernelspec": {
   "display_name": "Python 3 (ipykernel)",
   "language": "python",
   "name": "python3"
  },
  "language_info": {
   "codemirror_mode": {
    "name": "ipython",
    "version": 3
   },
   "file_extension": ".py",
   "mimetype": "text/x-python",
   "name": "python",
   "nbconvert_exporter": "python",
   "pygments_lexer": "ipython3",
   "version": "3.9.7"
  }
 },
 "nbformat": 4,
 "nbformat_minor": 4
}
